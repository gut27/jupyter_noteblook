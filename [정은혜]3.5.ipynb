{
 "cells": [
  {
   "cell_type": "markdown",
   "metadata": {},
   "source": [
    "# 제목 : 3.5\n",
    "## Reuters dataset\n",
    "- 1986년에 로이터에서 공개한 짧은 뉴스 기사와 토픽의 집합이다. 총 11,258개의 뉴스 기사가 46개의 카테고리로 나누어지는 테스트 데이터이다. 토픽 마다 데이터의 양이 다르다. 각 토픽은 훈련 세트에 최소한 10개의 샘플을 가지고 있다. \n",
    "## 예측하고자 하는 방법/방향\n",
    "- 데이터셋을 받아와 단어를 인덱스화 시켜 빈도수로 각 데이터가 가리키는 하나의 범주로 분류시켜 준다.\n",
    "## 학습을 위해 데이터 가공/처리 방법\n",
    "- 8982개의 훈련 샘플과 2246개의 테스트 샘플을 단어 인덱스로 만들어준다. 만들어진 단어 인덱스 즉, 정수 리스트를 원-핫 인코딩 방법으로 벡터로 바꾸어 준다.신경망 모델을 구성하는데 모델 구성시 46개의 클래스를 구분하여야 하기 때문에 큰 규모의 층을 사용한다. 64개의 유닛을 사용한다. 다만 마지막층은 46 층으로 구성하여 나오는 결과가 클래스의 결과와 일치하게 해준다. 또한 마지막 층에 softmax 활성화 함수를 사용하여 각 클래스에 대한 확률 분포를 출력할 수 있게 하여 확률이 가장 큰 클래스로 범주를 분류시켜 준다.   \n",
    "##  사용된 모델의 입력층과 출력층\n",
    "- 1개의 클래스를 10000개의 데이터로 구성하여 입력해 준 뒤 각 데이터를 46개의 클래스로 출력해준다."
   ]
  },
  {
   "cell_type": "code",
   "execution_count": 2,
   "metadata": {},
   "outputs": [
    {
     "data": {
      "text/plain": [
       "'2.2.4'"
      ]
     },
     "execution_count": 2,
     "metadata": {},
     "output_type": "execute_result"
    }
   ],
   "source": [
    "import keras\n",
    "keras.__version__"
   ]
  },
  {
   "cell_type": "code",
   "execution_count": 3,
   "metadata": {},
   "outputs": [
    {
     "name": "stdout",
     "output_type": "stream",
     "text": [
      "Downloading data from https://s3.amazonaws.com/text-datasets/reuters.npz\n",
      "2113536/2110848 [==============================] - 7s 3us/step\n"
     ]
    }
   ],
   "source": [
    "from keras.datasets import reuters\n",
    "\n",
    "(train_data, train_labels), (test_data, test_labels) = reuters.load_data(num_words=10000)"
   ]
  },
  {
   "cell_type": "code",
   "execution_count": 4,
   "metadata": {},
   "outputs": [
    {
     "data": {
      "text/plain": [
       "8982"
      ]
     },
     "execution_count": 4,
     "metadata": {},
     "output_type": "execute_result"
    }
   ],
   "source": [
    "len(train_data)"
   ]
  },
  {
   "cell_type": "code",
   "execution_count": 5,
   "metadata": {},
   "outputs": [
    {
     "data": {
      "text/plain": [
       "2246"
      ]
     },
     "execution_count": 5,
     "metadata": {},
     "output_type": "execute_result"
    }
   ],
   "source": [
    "len(test_data)"
   ]
  },
  {
   "cell_type": "code",
   "execution_count": 6,
   "metadata": {},
   "outputs": [
    {
     "data": {
      "text/plain": [
       "[1,\n",
       " 245,\n",
       " 273,\n",
       " 207,\n",
       " 156,\n",
       " 53,\n",
       " 74,\n",
       " 160,\n",
       " 26,\n",
       " 14,\n",
       " 46,\n",
       " 296,\n",
       " 26,\n",
       " 39,\n",
       " 74,\n",
       " 2979,\n",
       " 3554,\n",
       " 14,\n",
       " 46,\n",
       " 4689,\n",
       " 4329,\n",
       " 86,\n",
       " 61,\n",
       " 3499,\n",
       " 4795,\n",
       " 14,\n",
       " 61,\n",
       " 451,\n",
       " 4329,\n",
       " 17,\n",
       " 12]"
      ]
     },
     "execution_count": 6,
     "metadata": {},
     "output_type": "execute_result"
    }
   ],
   "source": [
    "train_data[10]"
   ]
  },
  {
   "cell_type": "code",
   "execution_count": 7,
   "metadata": {},
   "outputs": [
    {
     "name": "stdout",
     "output_type": "stream",
     "text": [
      "Downloading data from https://s3.amazonaws.com/text-datasets/reuters_word_index.json\n",
      "557056/550378 [==============================] - 1s 2us/step\n"
     ]
    }
   ],
   "source": [
    "word_index = reuters.get_word_index()\n",
    "reverse_word_index = dict([(value, key) for (key, value) in word_index.items()])\n",
    "# 0, 1, 2는 '패딩', '문서 시작', '사전에 없음'을 위한 인덱스이므로 3을 뺍니다\n",
    "decoded_newswire = ' '.join([reverse_word_index.get(i - 3, '?') for i in train_data[0]])"
   ]
  },
  {
   "cell_type": "code",
   "execution_count": 8,
   "metadata": {},
   "outputs": [
    {
     "data": {
      "text/plain": [
       "3"
      ]
     },
     "execution_count": 8,
     "metadata": {},
     "output_type": "execute_result"
    }
   ],
   "source": [
    "train_labels[10]"
   ]
  },
  {
   "cell_type": "code",
   "execution_count": 9,
   "metadata": {},
   "outputs": [],
   "source": [
    "import numpy as np\n",
    "\n",
    "def vectorize_sequences(sequences, dimension=10000):\n",
    "    results = np.zeros((len(sequences), dimension))\n",
    "    for i, sequence in enumerate(sequences):\n",
    "        results[i, sequence] = 1.\n",
    "    return results\n",
    "\n",
    "# 훈련 데이터 벡터 변환\n",
    "x_train = vectorize_sequences(train_data)\n",
    "# 테스트 데이터 벡터 변환\n",
    "x_test = vectorize_sequences(test_data)"
   ]
  },
  {
   "cell_type": "code",
   "execution_count": 10,
   "metadata": {},
   "outputs": [],
   "source": [
    "def to_one_hot(labels, dimension=46):\n",
    "    results = np.zeros((len(labels), dimension))\n",
    "    for i, label in enumerate(labels):\n",
    "        results[i, label] = 1.\n",
    "    return results\n",
    "\n",
    "# 훈련 레이블 벡터 변환\n",
    "one_hot_train_labels = to_one_hot(train_labels)\n",
    "# 테스트 레이블 벡터 변환\n",
    "one_hot_test_labels = to_one_hot(test_labels)"
   ]
  },
  {
   "cell_type": "code",
   "execution_count": 11,
   "metadata": {},
   "outputs": [],
   "source": [
    "from keras.utils.np_utils import to_categorical\n",
    "\n",
    "one_hot_train_labels = to_categorical(train_labels)\n",
    "one_hot_test_labels = to_categorical(test_labels)"
   ]
  },
  {
   "cell_type": "code",
   "execution_count": 13,
   "metadata": {},
   "outputs": [],
   "source": [
    "from keras import models\n",
    "from keras import layers\n",
    "\n",
    "model = models.Sequential()\n",
    "model.add(layers.Dense(64, activation='relu', input_shape=(10000,)))\n",
    "model.add(layers.Dense(64, activation='relu'))\n",
    "model.add(layers.Dense(46, activation='softmax'))"
   ]
  },
  {
   "cell_type": "code",
   "execution_count": 15,
   "metadata": {},
   "outputs": [],
   "source": [
    "model.compile(optimizer='rmsprop',\n",
    "              loss='categorical_crossentropy',\n",
    "              metrics=['accuracy'])"
   ]
  },
  {
   "cell_type": "code",
   "execution_count": 31,
   "metadata": {},
   "outputs": [],
   "source": [
    "x_val = x_train[:1000]\n",
    "partial_x_train = x_train[1000:]\n",
    "\n",
    "y_val = one_hot_train_labels[:1000]\n",
    "partial_y_train = one_hot_train_labels[1000:]"
   ]
  },
  {
   "cell_type": "code",
   "execution_count": 30,
   "metadata": {},
   "outputs": [
    {
     "name": "stdout",
     "output_type": "stream",
     "text": [
      "Train on 7982 samples, validate on 1000 samples\n",
      "Epoch 1/20\n",
      "7982/7982 [==============================] - 1s 185us/step - loss: 0.0987 - acc: 0.9578 - val_loss: 1.1895 - val_acc: 0.7990\n",
      "Epoch 2/20\n",
      "7982/7982 [==============================] - 1s 163us/step - loss: 0.0984 - acc: 0.9570 - val_loss: 1.1807 - val_acc: 0.7930\n",
      "Epoch 3/20\n",
      "7982/7982 [==============================] - 1s 169us/step - loss: 0.0928 - acc: 0.9617 - val_loss: 1.1846 - val_acc: 0.8030\n",
      "Epoch 4/20\n",
      "7982/7982 [==============================] - 1s 154us/step - loss: 0.0975 - acc: 0.9595 - val_loss: 1.2368 - val_acc: 0.7970\n",
      "Epoch 5/20\n",
      "7982/7982 [==============================] - 1s 155us/step - loss: 0.0936 - acc: 0.9593 - val_loss: 1.2570 - val_acc: 0.7930\n",
      "Epoch 6/20\n",
      "7982/7982 [==============================] - 1s 156us/step - loss: 0.0916 - acc: 0.9588 - val_loss: 1.2153 - val_acc: 0.7990\n",
      "Epoch 7/20\n",
      "7982/7982 [==============================] - 1s 156us/step - loss: 0.0939 - acc: 0.9573 - val_loss: 1.2732 - val_acc: 0.7910\n",
      "Epoch 8/20\n",
      "7982/7982 [==============================] - 1s 154us/step - loss: 0.0936 - acc: 0.9575 - val_loss: 1.2362 - val_acc: 0.8030\n",
      "Epoch 9/20\n",
      "7982/7982 [==============================] - 1s 154us/step - loss: 0.0916 - acc: 0.9574 - val_loss: 1.2754 - val_acc: 0.7990\n",
      "Epoch 10/20\n",
      "7982/7982 [==============================] - 1s 158us/step - loss: 0.0917 - acc: 0.9565 - val_loss: 1.2715 - val_acc: 0.7870\n",
      "Epoch 11/20\n",
      "7982/7982 [==============================] - 1s 154us/step - loss: 0.0885 - acc: 0.9593 - val_loss: 1.3412 - val_acc: 0.7790\n",
      "Epoch 12/20\n",
      "7982/7982 [==============================] - 1s 165us/step - loss: 0.0887 - acc: 0.9587 - val_loss: 1.3026 - val_acc: 0.7950\n",
      "Epoch 13/20\n",
      "7982/7982 [==============================] - 1s 161us/step - loss: 0.0892 - acc: 0.9577 - val_loss: 1.2390 - val_acc: 0.8030\n",
      "Epoch 14/20\n",
      "7982/7982 [==============================] - 1s 160us/step - loss: 0.0852 - acc: 0.9587 - val_loss: 1.2467 - val_acc: 0.8040\n",
      "Epoch 15/20\n",
      "7982/7982 [==============================] - 1s 156us/step - loss: 0.0872 - acc: 0.9588 - val_loss: 1.3435 - val_acc: 0.7880\n",
      "Epoch 16/20\n",
      "7982/7982 [==============================] - 1s 166us/step - loss: 0.0855 - acc: 0.9604 - val_loss: 1.2922 - val_acc: 0.7970\n",
      "Epoch 17/20\n",
      "7982/7982 [==============================] - 1s 168us/step - loss: 0.0879 - acc: 0.9590 - val_loss: 1.2863 - val_acc: 0.7920\n",
      "Epoch 18/20\n",
      "7982/7982 [==============================] - 1s 180us/step - loss: 0.0863 - acc: 0.9617 - val_loss: 1.3141 - val_acc: 0.8030\n",
      "Epoch 19/20\n",
      "7982/7982 [==============================] - 1s 154us/step - loss: 0.0872 - acc: 0.9579 - val_loss: 1.3569 - val_acc: 0.7900\n",
      "Epoch 20/20\n",
      "7982/7982 [==============================] - 1s 177us/step - loss: 0.0826 - acc: 0.9594 - val_loss: 1.3245 - val_acc: 0.7890\n"
     ]
    }
   ],
   "source": [
    "history = model.fit(partial_x_train,\n",
    "                    partial_y_train,\n",
    "                    epochs=20,\n",
    "                    batch_size=512,\n",
    "                    validation_data=(x_val, y_val))"
   ]
  },
  {
   "cell_type": "code",
   "execution_count": 20,
   "metadata": {},
   "outputs": [
    {
     "data": {
      "text/plain": [
       "<Figure size 640x480 with 1 Axes>"
      ]
     },
     "metadata": {},
     "output_type": "display_data"
    }
   ],
   "source": [
    "import matplotlib.pyplot as plt\n",
    "\n",
    "loss = history.history['loss']\n",
    "val_loss = history.history['val_loss']\n",
    "\n",
    "epochs = range(1, len(loss) + 1)\n",
    "\n",
    "plt.plot(epochs, loss, 'bo', label='Training loss')\n",
    "plt.plot(epochs, val_loss, 'b', label='Validation loss')\n",
    "plt.title('Training and validation loss')\n",
    "plt.xlabel('Epochs')\n",
    "plt.ylabel('Loss')\n",
    "plt.legend()\n",
    "\n",
    "plt.show()"
   ]
  },
  {
   "cell_type": "code",
   "execution_count": 21,
   "metadata": {},
   "outputs": [
    {
     "data": {
      "image/png": "[encoded data removed]",
      "text/plain": [
       "<Figure size 432x288 with 1 Axes>"
      ]
     },
     "metadata": {
      "needs_background": "light"
     },
     "output_type": "display_data"
    }
   ],
   "source": [
    "plt.clf()   # 그래프를 초기화합니다\n",
    "\n",
    "acc = history.history['acc']\n",
    "val_acc = history.history['val_acc']\n",
    "\n",
    "plt.plot(epochs, acc, 'bo', label='Training acc')\n",
    "plt.plot(epochs, val_acc, 'b', label='Validation acc')\n",
    "plt.title('Training and validation accuracy')\n",
    "plt.xlabel('Epochs')\n",
    "plt.ylabel('Accuracy')\n",
    "plt.legend()\n",
    "\n",
    "plt.show()"
   ]
  },
  {
   "cell_type": "code",
   "execution_count": 22,
   "metadata": {},
   "outputs": [
    {
     "name": "stdout",
     "output_type": "stream",
     "text": [
      "Train on 7982 samples, validate on 1000 samples\n",
      "Epoch 1/9\n",
      "7982/7982 [==============================] - 1s 179us/step - loss: 2.7742 - acc: 0.4716 - val_loss: 1.8333 - val_acc: 0.6640\n",
      "Epoch 2/9\n",
      "7982/7982 [==============================] - 1s 155us/step - loss: 1.4745 - acc: 0.7098 - val_loss: 1.3170 - val_acc: 0.7140\n",
      "Epoch 3/9\n",
      "7982/7982 [==============================] - 1s 151us/step - loss: 1.0655 - acc: 0.7801 - val_loss: 1.1403 - val_acc: 0.7550\n",
      "Epoch 4/9\n",
      "7982/7982 [==============================] - 1s 150us/step - loss: 0.8324 - acc: 0.8295 - val_loss: 1.0410 - val_acc: 0.7750\n",
      "Epoch 5/9\n",
      "7982/7982 [==============================] - 1s 153us/step - loss: 0.6601 - acc: 0.8636 - val_loss: 0.9594 - val_acc: 0.8110\n",
      "Epoch 6/9\n",
      "7982/7982 [==============================] - 1s 157us/step - loss: 0.5325 - acc: 0.8904 - val_loss: 0.9309 - val_acc: 0.8010\n",
      "Epoch 7/9\n",
      "7982/7982 [==============================] - 1s 153us/step - loss: 0.4310 - acc: 0.9095 - val_loss: 0.9253 - val_acc: 0.8050\n",
      "Epoch 8/9\n",
      "7982/7982 [==============================] - 1s 150us/step - loss: 0.3498 - acc: 0.9252 - val_loss: 0.8924 - val_acc: 0.8110\n",
      "Epoch 9/9\n",
      "7982/7982 [==============================] - 1s 170us/step - loss: 0.2953 - acc: 0.9352 - val_loss: 0.9353 - val_acc: 0.8000\n",
      "2246/2246 [==============================] - 0s 175us/step\n"
     ]
    }
   ],
   "source": [
    "model = models.Sequential()\n",
    "model.add(layers.Dense(64, activation='relu', input_shape=(10000,)))\n",
    "model.add(layers.Dense(64, activation='relu'))\n",
    "model.add(layers.Dense(46, activation='softmax'))\n",
    "\n",
    "model.compile(optimizer='rmsprop',\n",
    "              loss='categorical_crossentropy',\n",
    "              metrics=['accuracy'])\n",
    "model.fit(partial_x_train,\n",
    "          partial_y_train,\n",
    "          epochs=9,\n",
    "          batch_size=512,\n",
    "          validation_data=(x_val, y_val))\n",
    "results = model.evaluate(x_test, one_hot_test_labels)"
   ]
  },
  {
   "cell_type": "code",
   "execution_count": 23,
   "metadata": {},
   "outputs": [
    {
     "data": {
      "text/plain": [
       "[0.9979984367520068, 0.784060552092609]"
      ]
     },
     "execution_count": 23,
     "metadata": {},
     "output_type": "execute_result"
    }
   ],
   "source": [
    "results"
   ]
  },
  {
   "cell_type": "code",
   "execution_count": 24,
   "metadata": {},
   "outputs": [
    {
     "data": {
      "text/plain": [
       "0.1856634016028495"
      ]
     },
     "execution_count": 24,
     "metadata": {},
     "output_type": "execute_result"
    }
   ],
   "source": [
    "import copy\n",
    "\n",
    "test_labels_copy = copy.copy(test_labels)\n",
    "np.random.shuffle(test_labels_copy)\n",
    "float(np.sum(np.array(test_labels) == np.array(test_labels_copy))) / len(test_labels)"
   ]
  },
  {
   "cell_type": "code",
   "execution_count": 25,
   "metadata": {},
   "outputs": [],
   "source": [
    "predictions = model.predict(x_test)"
   ]
  },
  {
   "cell_type": "code",
   "execution_count": 26,
   "metadata": {},
   "outputs": [
    {
     "data": {
      "text/plain": [
       "(46,)"
      ]
     },
     "execution_count": 26,
     "metadata": {},
     "output_type": "execute_result"
    }
   ],
   "source": [
    "predictions[0].shape"
   ]
  },
  {
   "cell_type": "code",
   "execution_count": 27,
   "metadata": {},
   "outputs": [
    {
     "data": {
      "text/plain": [
       "1.0000001"
      ]
     },
     "execution_count": 27,
     "metadata": {},
     "output_type": "execute_result"
    }
   ],
   "source": [
    "np.sum(predictions[0])"
   ]
  },
  {
   "cell_type": "code",
   "execution_count": 28,
   "metadata": {},
   "outputs": [
    {
     "data": {
      "text/plain": [
       "3"
      ]
     },
     "execution_count": 28,
     "metadata": {},
     "output_type": "execute_result"
    }
   ],
   "source": [
    "np.argmax(predictions[0])"
   ]
  },
  {
   "cell_type": "code",
   "execution_count": 32,
   "metadata": {},
   "outputs": [],
   "source": [
    "y_train = np.array(train_labels)\n",
    "y_test = np.array(test_labels)"
   ]
  },
  {
   "cell_type": "code",
   "execution_count": 33,
   "metadata": {},
   "outputs": [],
   "source": [
    "model.compile(optimizer='rmsprop', loss='sparse_categorical_crossentropy', metrics=['acc'])"
   ]
  },
  {
   "cell_type": "code",
   "execution_count": 34,
   "metadata": {},
   "outputs": [
    {
     "name": "stdout",
     "output_type": "stream",
     "text": [
      "Train on 7982 samples, validate on 1000 samples\n",
      "Epoch 1/20\n",
      "7982/7982 [==============================] - 2s 244us/step - loss: 3.4214 - acc: 0.0980 - val_loss: 2.8458 - val_acc: 0.4030\n",
      "Epoch 2/20\n",
      "7982/7982 [==============================] - 2s 228us/step - loss: 2.1685 - acc: 0.4848 - val_loss: 1.7289 - val_acc: 0.6180\n",
      "Epoch 3/20\n",
      "7982/7982 [==============================] - 2s 242us/step - loss: 1.4366 - acc: 0.6361 - val_loss: 1.4564 - val_acc: 0.6220\n",
      "Epoch 4/20\n",
      "7982/7982 [==============================] - 2s 224us/step - loss: 1.1908 - acc: 0.6771 - val_loss: 1.3365 - val_acc: 0.6890\n",
      "Epoch 5/20\n",
      "7982/7982 [==============================] - 2s 211us/step - loss: 1.0309 - acc: 0.7428 - val_loss: 1.2990 - val_acc: 0.6990\n",
      "Epoch 6/20\n",
      "7982/7982 [==============================] - 2s 305us/step - loss: 0.9176 - acc: 0.7651 - val_loss: 1.3051 - val_acc: 0.6920\n",
      "Epoch 7/20\n",
      "7982/7982 [==============================] - 3s 314us/step - loss: 0.8323 - acc: 0.7801 - val_loss: 1.2905 - val_acc: 0.7020\n",
      "Epoch 8/20\n",
      "7982/7982 [==============================] - 2s 239us/step - loss: 0.7625 - acc: 0.7960 - val_loss: 1.2944 - val_acc: 0.7070\n",
      "Epoch 9/20\n",
      "7982/7982 [==============================] - 2s 255us/step - loss: 0.7036 - acc: 0.8086 - val_loss: 1.2896 - val_acc: 0.7160\n",
      "Epoch 10/20\n",
      "7982/7982 [==============================] - 2s 251us/step - loss: 0.6528 - acc: 0.8182 - val_loss: 1.3157 - val_acc: 0.7180\n",
      "Epoch 11/20\n",
      "7982/7982 [==============================] - 2s 263us/step - loss: 0.6106 - acc: 0.8295 - val_loss: 1.3576 - val_acc: 0.7210\n",
      "Epoch 12/20\n",
      "7982/7982 [==============================] - 2s 312us/step - loss: 0.5716 - acc: 0.8403 - val_loss: 1.3949 - val_acc: 0.7160\n",
      "Epoch 13/20\n",
      "7982/7982 [==============================] - 2s 263us/step - loss: 0.5388 - acc: 0.8535 - val_loss: 1.4246 - val_acc: 0.7070\n",
      "Epoch 14/20\n",
      "7982/7982 [==============================] - 2s 262us/step - loss: 0.5096 - acc: 0.8607 - val_loss: 1.4648 - val_acc: 0.7080\n",
      "Epoch 15/20\n",
      "7982/7982 [==============================] - 2s 257us/step - loss: 0.4854 - acc: 0.8643 - val_loss: 1.5163 - val_acc: 0.7120\n",
      "Epoch 16/20\n",
      "7982/7982 [==============================] - 2s 260us/step - loss: 0.4609 - acc: 0.8718 - val_loss: 1.5780 - val_acc: 0.7010\n",
      "Epoch 17/20\n",
      "7982/7982 [==============================] - 2s 256us/step - loss: 0.4398 - acc: 0.8779 - val_loss: 1.5851 - val_acc: 0.7130\n",
      "Epoch 18/20\n",
      "7982/7982 [==============================] - 2s 259us/step - loss: 0.4220 - acc: 0.8862 - val_loss: 1.6577 - val_acc: 0.7140\n",
      "Epoch 19/20\n",
      "7982/7982 [==============================] - 2s 260us/step - loss: 0.4046 - acc: 0.8910 - val_loss: 1.6833 - val_acc: 0.7100\n",
      "Epoch 20/20\n",
      "7982/7982 [==============================] - 2s 257us/step - loss: 0.3907 - acc: 0.8919 - val_loss: 1.6888 - val_acc: 0.7110\n"
     ]
    },
    {
     "data": {
      "text/plain": [
       "<keras.callbacks.History at 0x1b7e8d8b5c0>"
      ]
     },
     "execution_count": 34,
     "metadata": {},
     "output_type": "execute_result"
    }
   ],
   "source": [
    "model = models.Sequential()\n",
    "model.add(layers.Dense(64, activation='relu', input_shape=(10000,)))\n",
    "model.add(layers.Dense(4, activation='relu'))\n",
    "model.add(layers.Dense(46, activation='softmax'))\n",
    "\n",
    "model.compile(optimizer='rmsprop',\n",
    "              loss='categorical_crossentropy',\n",
    "              metrics=['accuracy'])\n",
    "model.fit(partial_x_train,\n",
    "          partial_y_train,\n",
    "          epochs=20,\n",
    "          batch_size=128,\n",
    "          validation_data=(x_val, y_val))"
   ]
  },
  {
   "cell_type": "code",
   "execution_count": null,
   "metadata": {},
   "outputs": [],
   "source": []
  }
 ],
 "metadata": {
  "kernelspec": {
   "display_name": "Python 3",
   "language": "python",
   "name": "python3"
  },
  "language_info": {
   "codemirror_mode": {
    "name": "ipython",
    "version": 3
   },
   "file_extension": ".py",
   "mimetype": "text/x-python",
   "name": "python",
   "nbconvert_exporter": "python",
   "pygments_lexer": "ipython3",
   "version": "3.6.8"
  }
 },
 "nbformat": 4,
 "nbformat_minor": 2
}
